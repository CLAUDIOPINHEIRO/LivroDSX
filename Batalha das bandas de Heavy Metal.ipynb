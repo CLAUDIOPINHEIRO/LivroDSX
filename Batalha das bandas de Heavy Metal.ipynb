{
    "cells": [
        {
            "cell_type": "markdown", 
            "source": "\n# TRABALHANDO COM DADOS N\u00c3O ESTRUTURADOS\n", 
            "metadata": {
                "collapsed": true
            }
        }, 
        {
            "cell_type": "markdown", 
            "source": "# Batalha estat\u00edstica das bandas de Heavy Metal", 
            "metadata": {}
        }, 
        {
            "cell_type": "markdown", 
            "source": "Vamos mostrar como podemos trabalhar com dados n\u00e3o estruturados utilizando plataformas opensource\n\n<img src='https://static.independent.co.uk/s3fs-public/styles/story_large/public/thumbnails/image/2015/12/29/10/motorhead.jpg?raw=true'></img>\n\nEste exemplo ser\u00e1 consttru\u00eddo utilizandoa linguagem R compilada em um notebook Jupyter instanciado em um ambiente Spark", 
            "metadata": {}
        }, 
        {
            "cell_type": "markdown", 
            "source": "#                                                                                                    X", 
            "metadata": {}
        }, 
        {
            "cell_type": "markdown", 
            "source": "<img src='https://i1.wp.com/www.imprensadorock.com.br/wp-content/uploads/2016/05/iron-maiden.jpg?raw=true'></img>", 
            "metadata": {}
        }, 
        {
            "cell_type": "markdown", 
            "source": "\nINSTALANDO PACOTES", 
            "metadata": {}
        }, 
        {
            "cell_type": "code", 
            "source": "install.packages(\"SnowballC\")", 
            "metadata": {}, 
            "execution_count": 1, 
            "outputs": [
                {
                    "output_type": "stream", 
                    "text": "Installing package into \u2018/gpfs/global_fs01/sym_shared/YPProdSpark/user/s62f-ac927fd26eb24e-71b632fab230/R/libs\u2019\n(as \u2018lib\u2019 is unspecified)\n", 
                    "name": "stderr"
                }
            ]
        }, 
        {
            "cell_type": "code", 
            "source": "install.packages(\"tm\")", 
            "metadata": {}, 
            "execution_count": 51, 
            "outputs": [
                {
                    "output_type": "stream", 
                    "text": "Installing package into \u2018/gpfs/global_fs01/sym_shared/YPProdSpark/user/s62f-ac927fd26eb24e-71b632fab230/R/libs\u2019\n(as \u2018lib\u2019 is unspecified)\n", 
                    "name": "stderr"
                }
            ]
        }, 
        {
            "cell_type": "code", 
            "source": "require(\"tm\")", 
            "metadata": {}, 
            "execution_count": 76, 
            "outputs": []
        }, 
        {
            "cell_type": "code", 
            "source": "require(\"SnowballC\")", 
            "metadata": {}, 
            "execution_count": 77, 
            "outputs": []
        }, 
        {
            "cell_type": "code", 
            "source": "# The code was removed by DSX for sharing.", 
            "metadata": {
                "collapsed": true
            }, 
            "execution_count": null, 
            "outputs": []
        }, 
        {
            "cell_type": "code", 
            "source": "head(Motorhead)", 
            "metadata": {}, 
            "execution_count": null, 
            "outputs": []
        }, 
        {
            "cell_type": "code", 
            "source": "\nIronMaiden <-  read.csv(file = getObjectStorageFileWithCredentials_bb2530b2a64d417990c6d4b0ca2ad8bb(\"TextMiningDadosNoEstruturados\", \"ironmaiden.csv\"))\n", 
            "metadata": {
                "collapsed": true
            }, 
            "execution_count": 13, 
            "outputs": []
        }, 
        {
            "cell_type": "code", 
            "source": "head(IronMaiden)", 
            "metadata": {}, 
            "execution_count": 14, 
            "outputs": [
                {
                    "output_type": "display_data", 
                    "metadata": {}, 
                    "data": {
                        "text/html": "<table>\n<thead><tr><th scope=col>Fear.of.the.dark</th></tr></thead>\n<tbody>\n\t<tr><td>I am a man who walks alone            </td></tr>\n\t<tr><td>And when I'm walking in a dark road   </td></tr>\n\t<tr><td>At night or strolling through the park</td></tr>\n\t<tr><td>When the light begins to change       </td></tr>\n\t<tr><td>I sometimes feel a little strange     </td></tr>\n\t<tr><td>A little anxious when it's dark       </td></tr>\n</tbody>\n</table>\n", 
                        "text/latex": "\\begin{tabular}{r|l}\n Fear.of.the.dark\\\\\n\\hline\n\t I am a man who walks alone            \\\\\n\t And when I'm walking in a dark road   \\\\\n\t At night or strolling through the park\\\\\n\t When the light begins to change       \\\\\n\t I sometimes feel a little strange     \\\\\n\t A little anxious when it's dark       \\\\\n\\end{tabular}\n", 
                        "text/plain": "  Fear.of.the.dark                      \n1 I am a man who walks alone            \n2 And when I'm walking in a dark road   \n3 At night or strolling through the park\n4 When the light begins to change       \n5 I sometimes feel a little strange     \n6 A little anxious when it's dark       "
                    }
                }
            ]
        }, 
        {
            "cell_type": "code", 
            "source": "show(Motorhead)", 
            "metadata": {}, 
            "execution_count": 11, 
            "outputs": [
                {
                    "output_type": "stream", 
                    "text": "                                          The.Ace.of.spades\n1             If you like to gamble I tell you I'm your man\n2            You win some lose some it's all the same to me\n3  The pleasure is to play makes no difference what you say\n4           I dont share your greed the only card I need is\n5                                         The Ace Of Spades\n6           Playing for the high one dancing with the devil\n7                 Going with the flow it's all a game to me\n8                   Seven or Eleven snake eyes watching you\n9                   Double up or quit double stake or split\n10                                        The Ace Of Spades\n11       You know I'm born to lose and gambling's for fools\n12                        But that's the way I like it baby\n13                               I don't wanna live forever\n14                              And don't forget the joker!\n15             Pushing up the ante I know you got to see me\n16              Read 'em and weep the dead man's hand again\n17              I see it in your eyes take one look and die\n18            The only thing you see you know it's gonna be\n19                                        The Ace Of Spades\n", 
                    "name": "stdout"
                }
            ]
        }, 
        {
            "cell_type": "code", 
            "source": "show(IronMaiden)", 
            "metadata": {}, 
            "execution_count": 15, 
            "outputs": [
                {
                    "output_type": "stream", 
                    "text": "                                      Fear.of.the.dark\n1                           I am a man who walks alone\n2                  And when I'm walking in a dark road\n3               At night or strolling through the park\n4                      When the light begins to change\n5                    I sometimes feel a little strange\n6                      A little anxious when it's dark\n7                                     Fear of the dark\n8                                     fear of the dark\n9  I have a constant fear that something's always near\n10                                    Fear of the dark\n11                                    fear of the dark\n12         I have a phobia that someone's always there\n13             Have you run your fingers down the wall\n14              And have you felt your neck skin crawl\n15                When you're searching for the light?\n16         Sometimes when you're scared to take a look\n17                           At the corner of the room\n18         You've sensed that something's watching you\n19                                    Fear of the dark\n20                                    fear of the dark\n21 I have a constant fear that something's always near\n22                                    Fear of the dark\n23                                    fear of the dark\n24         I have a phobia that someone's always there\n25                   Have you ever been alone at night\n26                  Thought you heard footsteps behind\n27               And turned around and no one's there?\n28                     And as you quicken up your pace\n29                   You'll find it hard to look again\n30            Because you're sure that someone's there\n31                                    Fear of the dark\n32                                    fear of the dark\n33 I have a constant fear that something's always near\n34                                    Fear of the dark\n35                                    fear of the dark\n36         I have a phobia that someone's always there\n37                                    Fear of the dark\n38                                    Fear of the dark\n39                                    Fear of the dark\n40                                    Fear of the dark\n41                                    Fear of the dark\n42                                    Fear of the dark\n43                                    Fear of the dark\n44                                    Fear of the dark\n45              Watching horror films the night before\n46                      Debating witches and folklores\n47                   The unknown troubles on your mind\n48                   Maybe your mind is playing tricks\n49                                           You sense\n50                               and suddenly eyes fix\n51                      On dancing shadows from behind\n52                                    Fear of the dark\n53                                    fear of the dark\n54   I have constant fear that something's always near\n55                                    Fear of the dark\n56                                    fear of the dark\n57         I have a phobia that someone's always there\n58                                    Fear of the dark\n59                                    fear of the dark\n60   I have constant fear that something's always near\n61                                    Fear of the dark\n62                                    fear of the dark\n63         I have a phobia that someone's always there\n64                     When I'm walking in a dark road\n65                          I am a man who walks alone\n", 
                    "name": "stdout"
                }
            ]
        }, 
        {
            "cell_type": "markdown", 
            "source": "N\u00f3s agora vamos dar um pequeno salto, e come\u00e7ar a trabalhar com outra classe de objeto no R: corpus. A palavra vem da lingu\u00edstica, e se refere a um conjunto de dados lingu\u00edsticos, normalmente em forma textual. ", 
            "metadata": {}
        }, 
        {
            "cell_type": "code", 
            "source": "iron.corpus <-Corpus(DataframeSource(IronMaiden))", 
            "metadata": {
                "collapsed": true
            }, 
            "execution_count": 17, 
            "outputs": []
        }, 
        {
            "cell_type": "code", 
            "source": "motor.corpus <-Corpus(DataframeSource(Motorhead))", 
            "metadata": {
                "collapsed": true
            }, 
            "execution_count": 20, 
            "outputs": []
        }, 
        {
            "cell_type": "markdown", 
            "source": "Aqui usamos a fun\u00e7\u00e3o Corpus do pacote tm para criar nossos novos objetos. Fique atento para o C mai\u00fasculo no nome da fun\u00e7\u00e3o, beleza? Mas tem mais um detalhe importante: dentro do comando, usamos a fun\u00e7\u00e3o DataframeSource para ler os dados. Ela faz um meio de campo para gente, lendo os nossos dados, que est\u00e3o em um dataframe, e convertendo para texto (na pr\u00e1tica, ela l\u00ea cada linha de um dataframe como se fosse um documento de texto, mas isso n\u00e3o \u00e9 t\u00e3o importante para este nosso exemplo).\n\nVamos ver o que aconteceu? Aqui est\u00e1:", 
            "metadata": {}
        }, 
        {
            "cell_type": "code", 
            "source": "iron.corpus", 
            "metadata": {}, 
            "execution_count": 19, 
            "outputs": [
                {
                    "output_type": "display_data", 
                    "metadata": {}, 
                    "data": {
                        "text/plain": "<<VCorpus>>\nMetadata:  corpus specific: 0, document level (indexed): 0\nContent:  documents: 65"
                    }
                }
            ]
        }, 
        {
            "cell_type": "code", 
            "source": "motor.corpus", 
            "metadata": {}, 
            "execution_count": 21, 
            "outputs": [
                {
                    "output_type": "display_data", 
                    "metadata": {}, 
                    "data": {
                        "text/plain": "<<VCorpus>>\nMetadata:  corpus specific: 0, document level (indexed): 0\nContent:  documents: 19"
                    }
                }
            ]
        }, 
        {
            "cell_type": "markdown", 
            "source": "Agora vamos come\u00e7ar a trabalhar com os nossos dois conjuntos de textos. Neste momento, as etapas poder\u00e3o variar dependendo dos nosso objetivos, ent\u00e3o tomem o que vamos fazer aqui apenas como um exemplo gen\u00e9rico, primeiro para o Iron:", 
            "metadata": {}
        }, 
        {
            "cell_type": "code", 
            "source": "iron.corpus<-tm_map(iron.corpus, removePunctuation, preserve_intra_word_dashes = FALSE)\niron.corpus<-tm_map(iron.corpus, removeWords, stopwords(\"english\"))\niron.corpus<-tm_map(iron.corpus, stemDocument)", 
            "metadata": {
                "collapsed": true
            }, 
            "execution_count": 25, 
            "outputs": []
        }, 
        {
            "cell_type": "markdown", 
            "source": "E agora para o Motorhead:", 
            "metadata": {}
        }, 
        {
            "cell_type": "code", 
            "source": "motor.corpus<-tm_map(motor.corpus, removePunctuation, preserve_intra_word_dashes = FALSE)\nmotor.corpus<-tm_map(motor.corpus, removeWords, stopwords(\"english\"))\nmotor.corpus<-tm_map(motor.corpus, stemDocument)", 
            "metadata": {
                "collapsed": true
            }, 
            "execution_count": 26, 
            "outputs": []
        }, 
        {
            "cell_type": "markdown", 
            "source": "A fun\u00e7\u00e3o tm_map \u00e9 uma fun\u00e7\u00e3o que cumpre um papel de intermediar a aplica\u00e7\u00e3o de outras fun\u00e7\u00f5es: ela permite aplicar fun\u00e7\u00f5es que v\u00e3o modificar os nossos corpora", 
            "metadata": {}
        }, 
        {
            "cell_type": "markdown", 
            "source": "Aqui, fizemos tr\u00eas modifica\u00e7\u00f5es. * removePunctuation faz o que o nome sugere: remove a pontua\u00e7\u00e3o. * removeWords remove palavras, e n\u00f3s usamos stopwords para remover palavras que n\u00e3o v\u00e3o fazer muito sentido em uma an\u00e1lise textual. Se quiser saber mais, experimente usar o comando stopwords(\"english\"), e veja a lista de palavras que ele removeu dos nossos textos. * por fim, stemDocument faz a \u201cestemiza\u00e7\u00e3o\u201d da palavra, que \u00e9 um processo no qual uma palavra flexionada \u00e9 transformada \u201cde volta\u201d para a sua raiz.", 
            "metadata": {}
        }, 
        {
            "cell_type": "markdown", 
            "source": "Contando as palavras\n\nO nosso objetivo, agora, \u00e9 contar o n\u00famero de vezes que as palavras aparecem nos nossos corpora. ", 
            "metadata": {}
        }, 
        {
            "cell_type": "code", 
            "source": "iron.matrix<-DocumentTermMatrix(iron.corpus)\n\nmotor.matrix<-DocumentTermMatrix(motor.corpus)", 
            "metadata": {
                "collapsed": true
            }, 
            "execution_count": 27, 
            "outputs": []
        }, 
        {
            "cell_type": "markdown", 
            "source": "Aqui usamos a fun\u00e7\u00e3o DocumentTermMatrix para criar uma matriz na qual as colunas s\u00e3o as palavras, e as linhas s\u00e3o os \u201cdocumentos\u201d. Entre aspas aqui, porque para os nossos dados, vamos juntar tudo em um conjunto s\u00f3, j\u00e1 que n\u00e3o temos documentos separados de fato. Ah, de novo, cuidado com as mai\u00fasculas no nome da fun\u00e7\u00e3o, ok?\n\nSe quiser olhar o resultado, execute inspect(iron.matrix)", 
            "metadata": {}
        }, 
        {
            "cell_type": "code", 
            "source": "inspect(iron.matrix)", 
            "metadata": {}, 
            "execution_count": 28, 
            "outputs": [
                {
                    "output_type": "stream", 
                    "text": "<<DocumentTermMatrix (documents: 65, terms: 75)>>\nNon-/sparse entries: 191/4684\nSparsity           : 96%\nMaximal term length: 8\nWeighting          : term frequency (tf)\nSample             :\n    Terms\nDocs alway and constant dark fear near phobia someon someth walk\n  13     0   0        0    0    0    0      0      0      0    0\n  14     0   1        0    0    0    0      0      0      0    0\n  2      0   1        0    1    0    0      0      0      0    1\n  21     1   0        1    0    1    1      0      0      1    0\n  33     1   0        1    0    1    1      0      0      1    0\n  4      0   0        0    0    0    0      0      0      0    0\n  5      0   0        0    0    0    0      0      0      0    0\n  54     1   0        1    0    1    1      0      0      1    0\n  60     1   0        1    0    1    1      0      0      1    0\n  9      1   0        1    0    1    1      0      0      1    0\n", 
                    "name": "stdout"
                }
            ]
        }, 
        {
            "cell_type": "code", 
            "source": "inspect(motor.matrix)", 
            "metadata": {}, 
            "execution_count": 29, 
            "outputs": [
                {
                    "output_type": "stream", 
                    "text": "<<DocumentTermMatrix (documents: 19, terms: 61)>>\nNon-/sparse entries: 83/1076\nSparsity           : 93%\nMaximal term length: 7\nWeighting          : term frequency (tf)\nSample             :\n    Terms\nDocs ace dont doubl eye gambl know like see spade the\n  11   0    0     0   0     1    1    0   0     0   0\n  12   0    0     0   0     0    0    1   0     0   0\n  15   0    0     0   0     0    1    0   1     0   0\n  16   0    0     0   0     0    0    0   0     0   0\n  17   0    0     0   1     0    0    0   1     0   0\n  3    0    0     0   0     0    0    0   0     0   1\n  4    0    1     0   0     0    0    0   0     0   0\n  6    0    0     0   0     0    0    0   0     0   0\n  8    0    0     0   1     0    0    0   0     0   0\n  9    0    0     2   0     0    0    0   0     0   0\n", 
                    "name": "stdout"
                }
            ]
        }, 
        {
            "cell_type": "markdown", 
            "source": "Os objetos que criamos ainda n\u00e3o s\u00e3o matrizes de verdade. Eles s\u00e3o listas, dentro das quais uma parte s\u00e3o as nossas matrizes. Se estiver curioso, execute um str(iron.matrix) para ver como o nosso objeto \u00e9 composto por uma lista, que tem v\u00e1rias partes. Para simplificar tudo na matriz mesmo, vamos usar de novo o inspect:", 
            "metadata": {}
        }, 
        {
            "cell_type": "code", 
            "source": "iron.matrix<-inspect(iron.matrix)\n\nmotor.matrix<-inspect(motor.matrix)", 
            "metadata": {}, 
            "execution_count": 30, 
            "outputs": [
                {
                    "output_type": "stream", 
                    "text": "<<DocumentTermMatrix (documents: 65, terms: 75)>>\nNon-/sparse entries: 191/4684\nSparsity           : 96%\nMaximal term length: 8\nWeighting          : term frequency (tf)\nSample             :\n    Terms\nDocs alway and constant dark fear near phobia someon someth walk\n  13     0   0        0    0    0    0      0      0      0    0\n  14     0   1        0    0    0    0      0      0      0    0\n  2      0   1        0    1    0    0      0      0      0    1\n  21     1   0        1    0    1    1      0      0      1    0\n  33     1   0        1    0    1    1      0      0      1    0\n  4      0   0        0    0    0    0      0      0      0    0\n  5      0   0        0    0    0    0      0      0      0    0\n  54     1   0        1    0    1    1      0      0      1    0\n  60     1   0        1    0    1    1      0      0      1    0\n  9      1   0        1    0    1    1      0      0      1    0\n<<DocumentTermMatrix (documents: 19, terms: 61)>>\nNon-/sparse entries: 83/1076\nSparsity           : 93%\nMaximal term length: 7\nWeighting          : term frequency (tf)\nSample             :\n    Terms\nDocs ace dont doubl eye gambl know like see spade the\n  11   0    0     0   0     1    1    0   0     0   0\n  12   0    0     0   0     0    0    1   0     0   0\n  15   0    0     0   0     0    1    0   1     0   0\n  16   0    0     0   0     0    0    0   0     0   0\n  17   0    0     0   1     0    0    0   1     0   0\n  3    0    0     0   0     0    0    0   0     0   1\n  4    0    1     0   0     0    0    0   0     0   0\n  6    0    0     0   0     0    0    0   0     0   0\n  8    0    0     0   1     0    0    0   0     0   0\n  9    0    0     2   0     0    0    0   0     0   0\n", 
                    "name": "stdout"
                }
            ]
        }, 
        {
            "cell_type": "markdown", 
            "source": "Como eu disse antes, a fun\u00e7\u00e3o DataframeSource leu cada linha como um documento; por isso as nossas matrizes tem tantas linhas! Ent\u00e3o vamos somar tudo, de forma que para cada conjunto de documentos teremos uma contagem simples de palavras. \u00c9 bem simples:", 
            "metadata": {}
        }, 
        {
            "cell_type": "code", 
            "source": "contagem.iron<-data.frame(colSums(iron.matrix))\n\ncontagem.motor<-data.frame(colSums(motor.matrix))", 
            "metadata": {
                "collapsed": true
            }, 
            "execution_count": 31, 
            "outputs": []
        }, 
        {
            "cell_type": "markdown", 
            "source": "Aqui usamos de novo data.frame, e dentro dela usamos colSums para somar os dados de todas as linhas em uma s\u00f3. Veja como ficou cada objeto:", 
            "metadata": {}
        }, 
        {
            "cell_type": "code", 
            "source": "head(contagem.iron)", 
            "metadata": {}, 
            "execution_count": 32, 
            "outputs": [
                {
                    "output_type": "display_data", 
                    "metadata": {}, 
                    "data": {
                        "text/html": "<table>\n<thead><tr><th></th><th scope=col>colSums.iron.matrix.</th></tr></thead>\n<tbody>\n\t<tr><th scope=row>alway</th><td>5</td></tr>\n\t<tr><th scope=row>and</th><td>2</td></tr>\n\t<tr><th scope=row>constant</th><td>5</td></tr>\n\t<tr><th scope=row>dark</th><td>1</td></tr>\n\t<tr><th scope=row>fear</th><td>5</td></tr>\n\t<tr><th scope=row>near</th><td>5</td></tr>\n</tbody>\n</table>\n", 
                        "text/latex": "\\begin{tabular}{r|l}\n  & colSums.iron.matrix.\\\\\n\\hline\n\talway & 5\\\\\n\tand & 2\\\\\n\tconstant & 5\\\\\n\tdark & 1\\\\\n\tfear & 5\\\\\n\tnear & 5\\\\\n\\end{tabular}\n", 
                        "text/plain": "         colSums.iron.matrix.\nalway    5                   \nand      2                   \nconstant 5                   \ndark     1                   \nfear     5                   \nnear     5                   "
                    }
                }
            ]
        }, 
        {
            "cell_type": "code", 
            "source": "head(contagem.motor)", 
            "metadata": {}, 
            "execution_count": 33, 
            "outputs": [
                {
                    "output_type": "display_data", 
                    "metadata": {}, 
                    "data": {
                        "text/html": "<table>\n<thead><tr><th></th><th scope=col>colSums.motor.matrix.</th></tr></thead>\n<tbody>\n\t<tr><th scope=row>ace</th><td>0</td></tr>\n\t<tr><th scope=row>dont</th><td>1</td></tr>\n\t<tr><th scope=row>doubl</th><td>2</td></tr>\n\t<tr><th scope=row>eye</th><td>2</td></tr>\n\t<tr><th scope=row>gambl</th><td>1</td></tr>\n\t<tr><th scope=row>know</th><td>2</td></tr>\n</tbody>\n</table>\n", 
                        "text/latex": "\\begin{tabular}{r|l}\n  & colSums.motor.matrix.\\\\\n\\hline\n\tace & 0\\\\\n\tdont & 1\\\\\n\tdoubl & 2\\\\\n\teye & 2\\\\\n\tgambl & 1\\\\\n\tknow & 2\\\\\n\\end{tabular}\n", 
                        "text/plain": "      colSums.motor.matrix.\nace   0                    \ndont  1                    \ndoubl 2                    \neye   2                    \ngambl 1                    \nknow  2                    "
                    }
                }
            ]
        }, 
        {
            "cell_type": "markdown", 
            "source": "Maneiro! Temos agora um objeto para cada banda, com uma coluna de palavras e outra com o n\u00famero de vezes com que cada palavra aparece! ", 
            "metadata": {}
        }, 
        {
            "cell_type": "code", 
            "source": "dtm_iron <- DocumentTermMatrix(iron.corpus)", 
            "metadata": {
                "collapsed": true
            }, 
            "execution_count": 45, 
            "outputs": []
        }, 
        {
            "cell_type": "code", 
            "source": "inspect(dtm_iron[1:60, 1:11])", 
            "metadata": {}, 
            "execution_count": 52, 
            "outputs": [
                {
                    "output_type": "stream", 
                    "text": "<<DocumentTermMatrix (documents: 60, terms: 11)>>\nNon-/sparse entries: 28/632\nSparsity           : 96%\nMaximal term length: 8\nWeighting          : term frequency (tf)\nSample             :\n    Terms\nDocs alon alway and anxious around becaus begin behind chang constant\n  1     1     0   0       0      0      0     0      0     0        0\n  2     0     0   1       0      0      0     0      0     0        0\n  21    0     1   0       0      0      0     0      0     0        1\n  27    0     0   1       0      1      0     0      0     0        0\n  33    0     1   0       0      0      0     0      0     0        1\n  4     0     0   0       0      0      0     1      0     1        0\n  54    0     1   0       0      0      0     0      0     0        1\n  6     0     0   0       1      0      0     0      0     0        0\n  60    0     1   0       0      0      0     0      0     0        1\n  9     0     1   0       0      0      0     0      0     0        1\n", 
                    "name": "stdout"
                }
            ]
        }, 
        {
            "cell_type": "code", 
            "source": "findFreqTerms(dtm_iron, 5)", 
            "metadata": {}, 
            "execution_count": 54, 
            "outputs": [
                {
                    "output_type": "display_data", 
                    "metadata": {}, 
                    "data": {
                        "text/plain": "[1] \"alway\"    \"constant\" \"dark\"     \"fear\"     \"near\"     \"phobia\"   \"someon\"  \n[8] \"someth\"  ", 
                        "text/html": "<ol class=list-inline>\n\t<li>'alway'</li>\n\t<li>'constant'</li>\n\t<li>'dark'</li>\n\t<li>'fear'</li>\n\t<li>'near'</li>\n\t<li>'phobia'</li>\n\t<li>'someon'</li>\n\t<li>'someth'</li>\n</ol>\n", 
                        "text/markdown": "1. 'alway'\n2. 'constant'\n3. 'dark'\n4. 'fear'\n5. 'near'\n6. 'phobia'\n7. 'someon'\n8. 'someth'\n\n\n", 
                        "text/latex": "\\begin{enumerate*}\n\\item 'alway'\n\\item 'constant'\n\\item 'dark'\n\\item 'fear'\n\\item 'near'\n\\item 'phobia'\n\\item 'someon'\n\\item 'someth'\n\\end{enumerate*}\n"
                    }
                }
            ]
        }, 
        {
            "cell_type": "code", 
            "source": "dtm_motor <- DocumentTermMatrix(motor.corpus)", 
            "metadata": {
                "collapsed": true
            }, 
            "execution_count": 48, 
            "outputs": []
        }, 
        {
            "cell_type": "code", 
            "source": "inspect(dtm_motor[1:17, 1:11])", 
            "metadata": {}, 
            "execution_count": 57, 
            "outputs": [
                {
                    "output_type": "stream", 
                    "text": "<<DocumentTermMatrix (documents: 17, terms: 11)>>\nNon-/sparse entries: 12/175\nSparsity           : 94%\nMaximal term length: 5\nWeighting          : term frequency (tf)\nSample             :\n    Terms\nDocs ace and ant babi born but card danc dead devil\n  10   1   0   0    0    0   0    0    0    0     0\n  11   0   0   0    0    1   0    0    0    0     0\n  12   0   0   0    1    0   1    0    0    0     0\n  14   0   1   0    0    0   0    0    0    0     0\n  15   0   0   1    0    0   0    0    0    0     0\n  16   0   0   0    0    0   0    0    0    1     0\n  17   0   0   0    0    0   0    0    0    0     0\n  4    0   0   0    0    0   0    1    0    0     0\n  5    1   0   0    0    0   0    0    0    0     0\n  6    0   0   0    0    0   0    0    1    0     1\n", 
                    "name": "stdout"
                }
            ]
        }, 
        {
            "cell_type": "code", 
            "source": "findFreqTerms(dtm_motor, 3)", 
            "metadata": {}, 
            "execution_count": 58, 
            "outputs": [
                {
                    "output_type": "display_data", 
                    "metadata": {}, 
                    "data": {
                        "text/plain": "[1] \"ace\"   \"dont\"  \"know\"  \"see\"   \"spade\" \"the\"  ", 
                        "text/html": "<ol class=list-inline>\n\t<li>'ace'</li>\n\t<li>'dont'</li>\n\t<li>'know'</li>\n\t<li>'see'</li>\n\t<li>'spade'</li>\n\t<li>'the'</li>\n</ol>\n", 
                        "text/markdown": "1. 'ace'\n2. 'dont'\n3. 'know'\n4. 'see'\n5. 'spade'\n6. 'the'\n\n\n", 
                        "text/latex": "\\begin{enumerate*}\n\\item 'ace'\n\\item 'dont'\n\\item 'know'\n\\item 'see'\n\\item 'spade'\n\\item 'the'\n\\end{enumerate*}\n"
                    }
                }
            ]
        }, 
        {
            "cell_type": "code", 
            "source": "", 
            "metadata": {
                "collapsed": true
            }, 
            "execution_count": null, 
            "outputs": []
        }, 
        {
            "cell_type": "code", 
            "source": "", 
            "metadata": {
                "collapsed": true
            }, 
            "execution_count": null, 
            "outputs": []
        }, 
        {
            "cell_type": "markdown", 
            "source": "\nFILTROS", 
            "metadata": {}
        }, 
        {
            "cell_type": "markdown", 
            "source": "\nENCONTRANDO ASSOCIA\u00c7\u00d5ES COM TERMO SELECIONADO", 
            "metadata": {}
        }, 
        {
            "cell_type": "code", 
            "source": "findAssocs(dtm_iron, \"fear\", 0.2)", 
            "metadata": {}, 
            "execution_count": 61, 
            "outputs": [
                {
                    "output_type": "display_data", 
                    "metadata": {}, 
                    "data": {
                        "text/plain": "$fear\n    dark constant     near   someth \n    0.76     0.28     0.28     0.21 \n", 
                        "text/html": "<strong>$fear</strong> = <dl class=dl-horizontal>\n\t<dt>dark</dt>\n\t\t<dd>0.76</dd>\n\t<dt>constant</dt>\n\t\t<dd>0.28</dd>\n\t<dt>near</dt>\n\t\t<dd>0.28</dd>\n\t<dt>someth</dt>\n\t\t<dd>0.21</dd>\n</dl>\n", 
                        "text/markdown": "**$fear** = dark\n:   0.76constant\n:   0.28near\n:   0.28someth\n:   0.21\n\n", 
                        "text/latex": "\\textbf{\\$fear} = \\begin{description*}\n\\item[dark] 0.76\n\\item[constant] 0.28\n\\item[near] 0.28\n\\item[someth] 0.21\n\\end{description*}\n"
                    }
                }
            ]
        }, 
        {
            "cell_type": "code", 
            "source": "findAssocs(dtm_motor, \"ace\", 0.2)", 
            "metadata": {}, 
            "execution_count": 62, 
            "outputs": [
                {
                    "output_type": "display_data", 
                    "metadata": {}, 
                    "data": {
                        "text/plain": "$ace\nspade   the \n 1.00  0.72 \n", 
                        "text/html": "<strong>$ace</strong> = <dl class=dl-horizontal>\n\t<dt>spade</dt>\n\t\t<dd>1</dd>\n\t<dt>the</dt>\n\t\t<dd>0.72</dd>\n</dl>\n", 
                        "text/markdown": "**$ace** = spade\n:   1the\n:   0.72\n\n", 
                        "text/latex": "\\textbf{\\$ace} = \\begin{description*}\n\\item[spade] 1\n\\item[the] 0.72\n\\end{description*}\n"
                    }
                }
            ]
        }, 
        {
            "cell_type": "markdown", 
            "source": "# Criando uma nuvem de palavras", 
            "metadata": {}
        }, 
        {
            "cell_type": "markdown", 
            "source": "Agora vamos plotar as palavras mais representativas", 
            "metadata": {}
        }, 
        {
            "cell_type": "code", 
            "source": "library(wordcloud)", 
            "metadata": {}, 
            "execution_count": 65, 
            "outputs": [
                {
                    "output_type": "stream", 
                    "text": "Loading required package: RColorBrewer\n", 
                    "name": "stderr"
                }
            ]
        }, 
        {
            "cell_type": "code", 
            "source": "par(mfrow=c(1,2))\nwordcloud(rownames(contagem.iron), contagem.iron[,1], min.freq=2)\ntext(x=0.5, y=0, \"Iron Maiden\", col=\"red\")\nwordcloud(rownames(contagem.motor), contagem.motor[,1], min.freq=2, main=\"Motorhead\")\ntext(x=0.5, y=0, \"Motorhead\", col=\"blue\")", 
            "metadata": {}, 
            "execution_count": 69, 
            "outputs": [
                {
                    "output_type": "stream", 
                    "text": "Warning message in wordcloud(rownames(contagem.iron), contagem.iron[, 1], min.freq = 2):\n\u201csometh could not be fit on page. It will not be plotted.\u201d", 
                    "name": "stderr"
                }, 
                {
                    "output_type": "display_data", 
                    "metadata": {}, 
                    "data": {
                        "image/png": "[encoded data removed]"
                    }
                }
            ]
        }, 
        {
            "cell_type": "code", 
            "source": "HTML(\"\"\"<video width=\"320\" height=\"240\" controls>\n<source src=\"https://github.com/aruizga7/SelfDrivingCar/raw/master/Project%201/results/white.mp4\"></video>\"\"\")", 
            "metadata": {}, 
            "execution_count": 75, 
            "outputs": [
                {
                    "traceback": [
                        "Error in parse(text = x, srcfile = src): <text>:1:8: unexpected string constant\n1: HTML(\"\"\"<video width=\"\n           ^\nTraceback:\n"
                    ], 
                    "evalue": "Error in parse(text = x, srcfile = src): <text>:1:8: unexpected string constant\n1: HTML(\"\"\"<video width=\"\n           ^\n", 
                    "ename": "ERROR", 
                    "output_type": "error"
                }
            ]
        }, 
        {
            "cell_type": "code", 
            "source": "video = io.open('/media/[...]/20160706_180451.mp4', 'r+b').read()\nencoded = base64.b64encode(video)\nHTML(data='''\n<video controls>\n    <source src=\"data:video/mp4;base64,{0}\" type=\"video/mp4\" />\n</video>'''.format(encoded.decode('ascii')))", 
            "metadata": {}, 
            "execution_count": 72, 
            "outputs": [
                {
                    "traceback": [
                        "Error in parse(text = x, srcfile = src): <text>:1:59: unexpected symbol\n1: video = io.open('/media/[...]/20160706_180451.mp4', 'r+b').read\n                                                              ^\nTraceback:\n"
                    ], 
                    "evalue": "Error in parse(text = x, srcfile = src): <text>:1:59: unexpected symbol\n1: video = io.open('/media/[...]/20160706_180451.mp4', 'r+b').read\n                                                              ^\n", 
                    "ename": "ERROR", 
                    "output_type": "error"
                }
            ]
        }, 
        {
            "cell_type": "code", 
            "source": "Adaptado de prof. Marcos V. C. Vital", 
            "metadata": {
                "collapsed": true
            }, 
            "execution_count": null, 
            "outputs": []
        }
    ], 
    "nbformat": 4, 
    "metadata": {
        "kernelspec": {
            "language": "R", 
            "name": "r-spark21", 
            "display_name": "R with Spark 2.1"
        }, 
        "language_info": {
            "file_extension": ".r", 
            "codemirror_mode": "r", 
            "pygments_lexer": "r", 
            "version": "3.3.2", 
            "mimetype": "text/x-r-source", 
            "name": "R"
        }
    }, 
    "nbformat_minor": 1
}